{
 "cells": [
  {
   "cell_type": "code",
   "execution_count": 1,
   "metadata": {},
   "outputs": [
    {
     "name": "stdout",
     "output_type": "stream",
     "text": [
      "demo.ipynb s8.fits    scuba2.py\r\n"
     ]
    }
   ],
   "source": [
    "!ls"
   ]
  },
  {
   "cell_type": "code",
   "execution_count": 2,
   "metadata": {
    "collapsed": true
   },
   "outputs": [],
   "source": [
    "from scuba2 import *"
   ]
  },
  {
   "cell_type": "code",
   "execution_count": 3,
   "metadata": {
    "collapsed": true
   },
   "outputs": [],
   "source": [
    "# load the SCUBA-2 850 micron image\n",
    "s8 = scuba850('s8.fits')"
   ]
  },
  {
   "cell_type": "code",
   "execution_count": 4,
   "metadata": {},
   "outputs": [
    {
     "name": "stdout",
     "output_type": "stream",
     "text": [
      "name: psf850.fits\n",
      "level: 3.0\n",
      "thresh: 7.0\n",
      "# of sources: 25\n"
     ]
    },
    {
     "data": {
      "image/png": "[encoded data removed]",
      "text/plain": [
       "<matplotlib.figure.Figure at 0x10e642610>"
      ]
     },
     "metadata": {},
     "output_type": "display_data"
    },
    {
     "name": "stdout",
     "output_type": "stream",
     "text": [
      "Best-fit parameters:\n",
      "[10.          9.41237111  9.96725881]\n"
     ]
    }
   ],
   "source": [
    "# create a psf profile \n",
    "psf = s8.mkpsf()"
   ]
  },
  {
   "cell_type": "code",
   "execution_count": 5,
   "metadata": {},
   "outputs": [
    {
     "name": "stdout",
     "output_type": "stream",
     "text": [
      "demo.ipynb    s8.fits       scuba2.pyc\r\n",
      "psf850.fits   scuba2.py     stack850.fits\r\n"
     ]
    }
   ],
   "source": [
    "!ls"
   ]
  },
  {
   "cell_type": "code",
   "execution_count": 6,
   "metadata": {},
   "outputs": [
    {
     "name": "stdout",
     "output_type": "stream",
     "text": [
      "name: test\n",
      "level: 3.0\n",
      "thresh: 4.0\n",
      "blend: 7.25\n",
      "r_psf: 50\n",
      "psf is from mkpsf\n",
      "# of sources detected above 4.0 sigma: 108\n",
      "central noise value (mJy/beam): 0.378195373833\n"
     ]
    }
   ],
   "source": [
    "# source extraction\n",
    "df = s8.extract(name='test')"
   ]
  },
  {
   "cell_type": "code",
   "execution_count": 7,
   "metadata": {},
   "outputs": [
    {
     "data": {
      "text/html": [
       "<div>\n",
       "<style>\n",
       "    .dataframe thead tr:only-child th {\n",
       "        text-align: right;\n",
       "    }\n",
       "\n",
       "    .dataframe thead th {\n",
       "        text-align: left;\n",
       "    }\n",
       "\n",
       "    .dataframe tbody tr th {\n",
       "        vertical-align: top;\n",
       "    }\n",
       "</style>\n",
       "<table border=\"1\" class=\"dataframe\">\n",
       "  <thead>\n",
       "    <tr style=\"text-align: right;\">\n",
       "      <th></th>\n",
       "      <th>ID</th>\n",
       "      <th>ra</th>\n",
       "      <th>dec</th>\n",
       "      <th>flux(mJy/beam)</th>\n",
       "      <th>error(mJy/beam)</th>\n",
       "      <th>S/N</th>\n",
       "    </tr>\n",
       "  </thead>\n",
       "  <tbody>\n",
       "    <tr>\n",
       "      <th>0</th>\n",
       "      <td>1</td>\n",
       "      <td>39.966526</td>\n",
       "      <td>-1.599444</td>\n",
       "      <td>22.207</td>\n",
       "      <td>0.425</td>\n",
       "      <td>52.310</td>\n",
       "    </tr>\n",
       "    <tr>\n",
       "      <th>1</th>\n",
       "      <td>2</td>\n",
       "      <td>39.909284</td>\n",
       "      <td>-1.521110</td>\n",
       "      <td>12.680</td>\n",
       "      <td>0.682</td>\n",
       "      <td>18.606</td>\n",
       "    </tr>\n",
       "    <tr>\n",
       "      <th>2</th>\n",
       "      <td>3</td>\n",
       "      <td>39.967360</td>\n",
       "      <td>-1.535278</td>\n",
       "      <td>11.615</td>\n",
       "      <td>0.483</td>\n",
       "      <td>24.037</td>\n",
       "    </tr>\n",
       "    <tr>\n",
       "      <th>3</th>\n",
       "      <td>4</td>\n",
       "      <td>39.912615</td>\n",
       "      <td>-1.639444</td>\n",
       "      <td>10.777</td>\n",
       "      <td>0.644</td>\n",
       "      <td>16.745</td>\n",
       "    </tr>\n",
       "    <tr>\n",
       "      <th>4</th>\n",
       "      <td>5</td>\n",
       "      <td>39.985978</td>\n",
       "      <td>-1.573611</td>\n",
       "      <td>8.053</td>\n",
       "      <td>0.416</td>\n",
       "      <td>19.360</td>\n",
       "    </tr>\n",
       "  </tbody>\n",
       "</table>\n",
       "</div>"
      ],
      "text/plain": [
       "   ID         ra       dec  flux(mJy/beam)  error(mJy/beam)     S/N\n",
       "0   1  39.966526 -1.599444          22.207            0.425  52.310\n",
       "1   2  39.909284 -1.521110          12.680            0.682  18.606\n",
       "2   3  39.967360 -1.535278          11.615            0.483  24.037\n",
       "3   4  39.912615 -1.639444          10.777            0.644  16.745\n",
       "4   5  39.985978 -1.573611           8.053            0.416  19.360"
      ]
     },
     "execution_count": 7,
     "metadata": {},
     "output_type": "execute_result"
    }
   ],
   "source": [
    "df.head()"
   ]
  },
  {
   "cell_type": "code",
   "execution_count": 8,
   "metadata": {},
   "outputs": [
    {
     "name": "stdout",
     "output_type": "stream",
     "text": [
      "test-resid.fits     test-snr-resid.fits test-source.log     test.reg\r\n"
     ]
    }
   ],
   "source": [
    "!ls test*"
   ]
  }
 ],
 "metadata": {
  "kernelspec": {
   "display_name": "Python 2",
   "language": "python",
   "name": "python2"
  },
  "language_info": {
   "codemirror_mode": {
    "name": "ipython",
    "version": 2
   },
   "file_extension": ".py",
   "mimetype": "text/x-python",
   "name": "python",
   "nbconvert_exporter": "python",
   "pygments_lexer": "ipython2",
   "version": "2.7.13"
  }
 },
 "nbformat": 4,
 "nbformat_minor": 2
}
